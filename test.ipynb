{
 "cells": [
  {
   "cell_type": "code",
   "execution_count": 1,
   "id": "enormous-inquiry",
   "metadata": {
    "ExecuteTime": {
     "end_time": "2021-05-07T08:55:30.201353Z",
     "start_time": "2021-05-07T08:55:26.804354Z"
    }
   },
   "outputs": [],
   "source": [
    "import dash_core_components as dcc\n",
    "import dash_html_components as html\n",
    "import plotly.express as px\n",
    "from dash.dependencies import Input, Output, State, MATCH, ALL\n",
    "\n",
    "# 自定义\n",
    "from design.server import create_app, run_server"
   ]
  },
  {
   "cell_type": "code",
   "execution_count": 2,
   "id": "grave-newspaper",
   "metadata": {
    "ExecuteTime": {
     "end_time": "2021-05-07T08:55:30.217356Z",
     "start_time": "2021-05-07T08:55:30.205355Z"
    }
   },
   "outputs": [],
   "source": [
    "import pandas as pd\n",
    "\n",
    "\n",
    "def create_layout(df):\n",
    "    _layout = html.Div([\n",
    "        dcc.Graph(id='graph-with-slider'),\n",
    "        dcc.Slider(\n",
    "            id='year-slider',\n",
    "            min=df['year'].min(),\n",
    "            max=df['year'].max(),\n",
    "            value=df['year'].min(),\n",
    "            marks={str(year): str(year) for year in df['year'].unique()},\n",
    "            step=None\n",
    "        )\n",
    "    ])\n",
    "    return _layout"
   ]
  },
  {
   "cell_type": "code",
   "execution_count": 3,
   "id": "angry-composer",
   "metadata": {
    "ExecuteTime": {
     "end_time": "2021-05-07T08:55:33.151873Z",
     "start_time": "2021-05-07T08:55:30.221357Z"
    }
   },
   "outputs": [
    {
     "name": "stdout",
     "output_type": "stream",
     "text": [
      "Dash app running on http://127.0.0.1:10000/\n"
     ]
    }
   ],
   "source": [
    "app = create_app()\n",
    "\n",
    "df = pd.read_csv('draft/gapminderDataFiveYear.csv')\n",
    "layout = create_layout(df)\n",
    "\n",
    "\n",
    "@app.callback(\n",
    "    Output('graph-with-slider', 'figure'),\n",
    "    Input('year-slider', 'value'))\n",
    "def update_figure(selected_year):\n",
    "    filtered_df = df[df.year == selected_year]\n",
    "\n",
    "    fig = px.scatter(filtered_df, x=\"gdpPercap\", y=\"lifeExp\",\n",
    "                     size=\"pop\", color=\"continent\", hover_name=\"country\",\n",
    "                     log_x=True, size_max=55)\n",
    "\n",
    "    fig.update_layout(transition_duration=500)\n",
    "    return fig\n",
    "\n",
    "\n",
    "await run_server(app, layout, port=10000)"
   ]
  },
  {
   "cell_type": "code",
   "execution_count": 4,
   "id": "previous-advice",
   "metadata": {
    "ExecuteTime": {
     "end_time": "2021-05-07T09:00:50.525868Z",
     "start_time": "2021-05-07T09:00:50.443868Z"
    }
   },
   "outputs": [
    {
     "name": "stdout",
     "output_type": "stream",
     "text": [
      "Dash app running on http://127.0.0.1:10002/\n"
     ]
    }
   ],
   "source": [
    "app = create_app()\n",
    "\n",
    "\n",
    "layout = html.Div([\n",
    "    dcc.Input(id='input-1-state', type='text', value='Montréal'),\n",
    "    dcc.Input(id='input-2-state', type='text', value='Canada'),\n",
    "    html.Button(id='submit-button-state', n_clicks=0, children='Submit'),\n",
    "    html.Div(id='output-state')\n",
    "])\n",
    "\n",
    "\n",
    "@app.callback(Output('output-state', 'children'),\n",
    "              Input('submit-button-state', 'n_clicks'),\n",
    "              State('input-1-state', 'value'),\n",
    "              State('input-2-state', 'value'))\n",
    "def update_output(n_clicks, input1, input2):\n",
    "    return u'''\n",
    "        The Button has been pressed {} times,\n",
    "        Input 1 is \"{}\",\n",
    "        and Input 2 is \"{}\"\n",
    "    '''.format(n_clicks, input1, input2)\n",
    "\n",
    "await run_server(app, layout, port=10002)"
   ]
  },
  {
   "cell_type": "code",
   "execution_count": null,
   "id": "martial-quantity",
   "metadata": {},
   "outputs": [],
   "source": []
  }
 ],
 "metadata": {
  "kernelspec": {
   "display_name": "ai",
   "language": "python",
   "name": "ai"
  },
  "language_info": {
   "codemirror_mode": {
    "name": "ipython",
    "version": 3
   },
   "file_extension": ".py",
   "mimetype": "text/x-python",
   "name": "python",
   "nbconvert_exporter": "python",
   "pygments_lexer": "ipython3",
   "version": "3.9.4"
  },
  "toc": {
   "base_numbering": 1,
   "nav_menu": {},
   "number_sections": true,
   "sideBar": true,
   "skip_h1_title": false,
   "title_cell": "Table of Contents",
   "title_sidebar": "Contents",
   "toc_cell": false,
   "toc_position": {},
   "toc_section_display": true,
   "toc_window_display": false
  }
 },
 "nbformat": 4,
 "nbformat_minor": 5
}
